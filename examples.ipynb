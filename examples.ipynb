{
 "cells": [
  {
   "cell_type": "code",
   "execution_count": 1,
   "metadata": {},
   "outputs": [],
   "source": [
    "#  测试通过案例\n",
    "import pandas as pd\n",
    "train = pd.read_feather('/data/home/lichengzhang/zhoujun/HaimianData/20250325_split/train74_5_300750.SZ/20200427.ftr')\n",
    "test = pd.read_feather('/data/home/lichengzhang/zhoujun/HaimianData/20250325_split/test74_5_300750.SZ/20200427.ftr')\n"
   ]
  },
  {
   "cell_type": "code",
   "execution_count": 2,
   "metadata": {},
   "outputs": [],
   "source": [
    "# Data Pre\n",
    "cat_cols = []\n",
    "num_cols = [f'factor_{i}' for i in range(1,113)]\n",
    "train['y'] = train['y60_duo'].apply(lambda x: 1 if x > 0.0022 else 0)\n",
    "test['y'] = test['y60_duo'].apply(lambda x: 1 if x > 0.0022 else 0)"
   ]
  },
  {
   "cell_type": "code",
   "execution_count": 3,
   "metadata": {},
   "outputs": [],
   "source": [
    "a = train[['factor_0','factor_5', 'factor_6', 'y', 'y60_duo']].head(1000)"
   ]
  },
  {
   "cell_type": "code",
   "execution_count": 4,
   "metadata": {},
   "outputs": [],
   "source": [
    "import numpy as np\n",
    "import pandas as pd\n",
    "import torch\n",
    "import torch.nn as nn\n",
    "import pytorch_lightning as pl\n",
    "from torch.utils.data import DataLoader\n",
    "from omegaconf import DictConfig\n",
    "from typing import Dict \n",
    "# 简单模型定义\n",
    "class StockModel(pl.LightningModule):\n",
    "    def __init__(self, input_dim: int, hidden_dim: int = 64, output_dims: Dict[str, int] = None):\n",
    "        super().__init__()\n",
    "        self.save_hyperparameters()\n",
    "        \n",
    "        # 定义网络\n",
    "        self.network = nn.Sequential(\n",
    "            nn.Linear(input_dim, hidden_dim),\n",
    "            nn.ReLU(),\n",
    "            nn.Linear(hidden_dim, 2)  # 假设所有任务输出拼接\n",
    "        )\n",
    "        self.output_dims = output_dims\n",
    "        self.loss_fn = nn.CrossEntropyLoss() # 假设分类任务\n",
    "\n",
    "    def forward(self, continuous, categorical=None):\n",
    "        # 假设只用连续特征\n",
    "        return self.network(continuous)\n",
    "\n",
    "    def training_step(self, batch, batch_idx):\n",
    "        continuous = batch[\"continuous\"]\n",
    "        targets = batch[\"targets\"]\n",
    "        pred = self(continuous)\n",
    "        loss = self.loss_fn(pred, targets[\"y\"])  # 假设目标是 y60_duo\n",
    "\n",
    "        self.log(\"train_loss\", loss, on_step=True, on_epoch=True, prog_bar=True)\n",
    "        return loss\n",
    "    \n",
    "    def validation_step(self, batch, batch_idx):\n",
    "        continuous = batch[\"continuous\"]\n",
    "        targets = batch[\"targets\"]\n",
    "        pred = self(continuous)\n",
    "        loss = self.loss_fn(pred, targets[\"y\"])\n",
    "        self.log(\"val_loss\", loss, on_epoch=True, prog_bar=True)\n",
    "\n",
    "    def configure_optimizers(self):\n",
    "        return torch.optim.Adam(self.parameters(), lr=1e-3)\n"
   ]
  },
  {
   "cell_type": "code",
   "execution_count": null,
   "metadata": {},
   "outputs": [],
   "source": [
    "from utils.loss import MultiTaskLoss\n"
   ]
  },
  {
   "cell_type": "code",
   "execution_count": null,
   "metadata": {},
   "outputs": [
    {
     "name": "stdout",
     "output_type": "stream",
     "text": [
      "初始化 StockDataModule: split_type=time, batch_size=256\n",
      "训练集大小: 15606, 验证集大小: 1734\n",
      "{'continuous': tensor([ 7.0000, -0.9503, -0.2595]), 'categorical': tensor([]), 'targets': {'y': tensor(0), 'y60_duo': tensor(-0.0044)}}\n"
     ]
    },
    {
     "ename": "NotImplementedError",
     "evalue": "多任务学习需要自定义损失函数",
     "output_type": "error",
     "traceback": [
      "\u001b[0;31m---------------------------------------------------------------------------\u001b[0m",
      "\u001b[0;31mNotImplementedError\u001b[0m                       Traceback (most recent call last)",
      "Cell \u001b[0;32mIn[5], line 50\u001b[0m\n\u001b[1;32m     47\u001b[0m \u001b[38;5;28mprint\u001b[39m(traindataset[\u001b[38;5;241m1\u001b[39m])\n\u001b[1;32m     49\u001b[0m \u001b[38;5;66;03m# 模型模块 \u001b[39;00m\n\u001b[0;32m---> 50\u001b[0m model \u001b[38;5;241m=\u001b[39m \u001b[43mMLPModel\u001b[49m\u001b[43m(\u001b[49m\u001b[43mconfig\u001b[49m\u001b[43m)\u001b[49m\n\u001b[1;32m     52\u001b[0m trainer \u001b[38;5;241m=\u001b[39m pl\u001b[38;5;241m.\u001b[39mTrainer(max_epochs\u001b[38;5;241m=\u001b[39m\u001b[38;5;241m2\u001b[39m, devices \u001b[38;5;241m=\u001b[39m [\u001b[38;5;241m0\u001b[39m])\n\u001b[1;32m     53\u001b[0m trainer\u001b[38;5;241m.\u001b[39mfit(model, data_module)\n",
      "File \u001b[0;32m~/zhoujun/Rehaimian/models/mlp/mlp.py:105\u001b[0m, in \u001b[0;36mMLPModel.__init__\u001b[0;34m(self, config, **kwargs)\u001b[0m\n\u001b[1;32m     98\u001b[0m \u001b[38;5;28;01mdef\u001b[39;00m \u001b[38;5;21m__init__\u001b[39m(\u001b[38;5;28mself\u001b[39m, config: DictConfig, \u001b[38;5;241m*\u001b[39m\u001b[38;5;241m*\u001b[39mkwargs):\n\u001b[1;32m     99\u001b[0m \u001b[38;5;250m    \u001b[39m\u001b[38;5;124;03m\"\"\"MLP 模型，继承自 BaseModel，实现解耦的嵌入层、主干网络和头部。\u001b[39;00m\n\u001b[1;32m    100\u001b[0m \n\u001b[1;32m    101\u001b[0m \u001b[38;5;124;03m    参数:\u001b[39;00m\n\u001b[1;32m    102\u001b[0m \u001b[38;5;124;03m        config (DictConfig): 配置，包括输入维度、层结构、任务类型等。\u001b[39;00m\n\u001b[1;32m    103\u001b[0m \u001b[38;5;124;03m        **kwargs: 传递给 BaseModel 的额外参数。\u001b[39;00m\n\u001b[1;32m    104\u001b[0m \u001b[38;5;124;03m    \"\"\"\u001b[39;00m\n\u001b[0;32m--> 105\u001b[0m     \u001b[38;5;28;43msuper\u001b[39;49m\u001b[43m(\u001b[49m\u001b[43m)\u001b[49m\u001b[38;5;241;43m.\u001b[39;49m\u001b[38;5;21;43m__init__\u001b[39;49m\u001b[43m(\u001b[49m\u001b[43mconfig\u001b[49m\u001b[43m,\u001b[49m\u001b[43m \u001b[49m\u001b[38;5;241;43m*\u001b[39;49m\u001b[38;5;241;43m*\u001b[39;49m\u001b[43mkwargs\u001b[49m\u001b[43m)\u001b[49m\n\u001b[1;32m    106\u001b[0m     \u001b[38;5;28mself\u001b[39m\u001b[38;5;241m.\u001b[39mhparams \u001b[38;5;241m=\u001b[39m config\n\u001b[1;32m    107\u001b[0m     \u001b[38;5;28mself\u001b[39m\u001b[38;5;241m.\u001b[39m_build_network()\n",
      "File \u001b[0;32m~/zhoujun/Rehaimian/models/base_model.py:40\u001b[0m, in \u001b[0;36mBaseModel.__init__\u001b[0;34m(self, config, custom_loss, custom_metrics, custom_metrics_prob_inputs, custom_optimizer, custom_optimizer_params, **kwargs)\u001b[0m\n\u001b[1;32m     37\u001b[0m \u001b[38;5;28mself\u001b[39m\u001b[38;5;241m.\u001b[39mkwargs \u001b[38;5;241m=\u001b[39m kwargs\n\u001b[1;32m     39\u001b[0m \u001b[38;5;66;03m# 初始化损失函数\u001b[39;00m\n\u001b[0;32m---> 40\u001b[0m \u001b[38;5;28mself\u001b[39m\u001b[38;5;241m.\u001b[39mloss_fn \u001b[38;5;241m=\u001b[39m \u001b[38;5;28;43mself\u001b[39;49m\u001b[38;5;241;43m.\u001b[39;49m\u001b[43m_init_loss\u001b[49m\u001b[43m(\u001b[49m\u001b[43mcustom_loss\u001b[49m\u001b[43m)\u001b[49m\n\u001b[1;32m     42\u001b[0m \u001b[38;5;66;03m# 初始化指标\u001b[39;00m\n\u001b[1;32m     43\u001b[0m \u001b[38;5;28mself\u001b[39m\u001b[38;5;241m.\u001b[39mmetrics \u001b[38;5;241m=\u001b[39m \u001b[38;5;28mself\u001b[39m\u001b[38;5;241m.\u001b[39m_init_metrics(custom_metrics, custom_metrics_prob_inputs)\n",
      "File \u001b[0;32m~/zhoujun/Rehaimian/models/base_model.py:67\u001b[0m, in \u001b[0;36mBaseModel._init_loss\u001b[0;34m(self, custom_loss)\u001b[0m\n\u001b[1;32m     65\u001b[0m         \u001b[38;5;28;01mraise\u001b[39;00m \u001b[38;5;167;01mValueError\u001b[39;00m(\u001b[38;5;124mf\u001b[39m\u001b[38;5;124m\"\u001b[39m\u001b[38;5;124m不支持的任务类型: \u001b[39m\u001b[38;5;132;01m{\u001b[39;00mtask_type\u001b[38;5;132;01m}\u001b[39;00m\u001b[38;5;124m\"\u001b[39m)\n\u001b[1;32m     66\u001b[0m \u001b[38;5;28;01melse\u001b[39;00m:\n\u001b[0;32m---> 67\u001b[0m     \u001b[38;5;28;01mraise\u001b[39;00m \u001b[38;5;167;01mNotImplementedError\u001b[39;00m(\u001b[38;5;124m\"\u001b[39m\u001b[38;5;124m多任务学习需要自定义损失函数\u001b[39m\u001b[38;5;124m\"\u001b[39m)\n",
      "\u001b[0;31mNotImplementedError\u001b[0m: 多任务学习需要自定义损失函数"
     ]
    }
   ],
   "source": [
    "from config import DataConfig\n",
    "from data import StockDataModule\n",
    "from omegaconf import OmegaConf \n",
    "from models.mlp import MLPModel, MLPConfig\n",
    "config = DataConfig(\n",
    "        continuous_cols=[\"factor_0\", \"factor_5\", \"factor_6\"],\n",
    "        target_cols=[\"y\", \"y60_duo\"],\n",
    "        task_types={\"y\": \"classification\", \"y60_duo\": \"regression\"},\n",
    "        categorical_cols=None,\n",
    "        category_col=\"factor_0\",\n",
    "        target_category=7,\n",
    "        window_len=1,\n",
    "        padding_value=0.0,\n",
    "        batch_size=256,\n",
    "        split_ratio=0.1,\n",
    "        split_type=\"time\",\n",
    "        split_start=0.9\n",
    "    )\n",
    "\n",
    "models_config = MLPConfig(\n",
    "    layers = \"32-32\"\n",
    ")\n",
    "config = OmegaConf.structured(config)\n",
    "models_config = OmegaConf.structured(models_config)\n",
    "\n",
    "# 合并所有参数\n",
    "config = OmegaConf.merge(\n",
    "    OmegaConf.to_container(config), \n",
    "    OmegaConf.to_container(models_config)\n",
    "    )\n",
    "\n",
    "# 数据模块\n",
    "data_module = StockDataModule(\n",
    "    train = train, \n",
    "    config = config, \n",
    "    validation = None, # 空的话从训练集中切分\n",
    "    train_sampler = True, #使用\n",
    "    verbose = True,\n",
    ")\n",
    "infer_config = data_module.infer_config(config)\n",
    "infer_config = OmegaConf.structured(infer_config)\n",
    "config = OmegaConf.merge(config, OmegaConf.to_container(infer_config))\n",
    "data_module.setup() \n",
    "traindataset = data_module.train_dataset\n",
    "\n",
    "\n",
    "print(traindataset[1])\n",
    "\n",
    "#\n",
    "task_weights = {\"y\": 1.0, \"y60_duo\": 1.0}\n",
    "# 自定义的损失函数\n",
    "loss_fn = MultiTaskLoss(task_types=config.task_types, task_weights=task_weights)\n",
    "\n",
    "# 模型模块 \n",
    "model = MLPModel(config)\n",
    "\n",
    "trainer = pl.Trainer(max_epochs=2, devices = [0])\n",
    "trainer.fit(model, data_module)"
   ]
  }
 ],
 "metadata": {
  "kernelspec": {
   "display_name": "fr",
   "language": "python",
   "name": "python3"
  },
  "language_info": {
   "codemirror_mode": {
    "name": "ipython",
    "version": 3
   },
   "file_extension": ".py",
   "mimetype": "text/x-python",
   "name": "python",
   "nbconvert_exporter": "python",
   "pygments_lexer": "ipython3",
   "version": "3.11.11"
  }
 },
 "nbformat": 4,
 "nbformat_minor": 2
}
